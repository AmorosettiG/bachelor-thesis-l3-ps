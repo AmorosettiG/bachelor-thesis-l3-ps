{
 "cells": [
  {
   "cell_type": "markdown",
   "metadata": {},
   "source": [
    "# $$ \\textbf{Quantum Approximate Optimization Algorithm} \\\\ \\textbf{Application to the Max-Cut problem} \\\\ \\tiny \\text{  Simulation and experiment on a real quantum computer}$$"
   ]
  },
  {
   "cell_type": "markdown",
   "metadata": {},
   "source": [
    "# Packages and prerequisites"
   ]
  },
  {
   "cell_type": "code",
   "execution_count": null,
   "metadata": {},
   "outputs": [],
   "source": [
    "import networkx as nx                                       # Package for creation and use of graphs\n",
    "\n",
    "\n",
    "from qiskit.visualization import plot_histogram             # Quantum computing python packages\n",
    "from qiskit import IBMQ, Aer\n",
    "from qiskit.providers.ibmq import least_busy\n",
    "from qiskit import QuantumCircuit, transpile\n",
    "from qiskit.tools.monitor import job_monitor\n",
    "\n",
    "\n",
    "from scipy.optimize import minimize                  # Package used to minimize functions\n",
    "\n",
    "from tqdm import tqdm                                # Package used to show loop progression\n",
    "\n",
    "\n",
    "import matplotlib.pyplot as plt\n",
    "from mpl_toolkits import mplot3d\n",
    "\n",
    "\n",
    "\n",
    "# /!\\ If any change of the matplotlib method, restart the kernel \n",
    "# /!\\ %matplotlib inline mandatory on the IBM website\n",
    "\n",
    "%matplotlib qt\n",
    "# To plot in a new window\n",
    "\n",
    "# %matplotlib inline\n",
    "# To plot in the notebook\n",
    "\n",
    "\n",
    "import numpy as np"
   ]
  },
  {
   "cell_type": "code",
   "execution_count": null,
   "metadata": {},
   "outputs": [],
   "source": [
    "# Saving IBM account for quantum experiments\n",
    "API_KEY=''\n",
    "# API_KEY is a string containing the token from IBM to use the quantum processors\n",
    "IBMQ.save_account(API_KEY, overwrite=True)\n",
    "\n",
    "# Loading our saved IBMQ accounts\n",
    "IBMQ.load_account()\n",
    "\n",
    "\n",
    "# If problems : \n",
    "\n",
    "#IBMQ.delete_account() to remove the account\n",
    "#IBMQ.active_account() to check actives accounts (after they are loaded with IBMQ.load_account())\n",
    "# and generate a new token from the IBM Quantum Lab Website"
   ]
  },
  {
   "cell_type": "markdown",
   "metadata": {},
   "source": [
    "# Functions definitions"
   ]
  },
  {
   "cell_type": "markdown",
   "metadata": {},
   "source": [
    "### Graph creation"
   ]
  },
  {
   "cell_type": "code",
   "execution_count": null,
   "metadata": {},
   "outputs": [],
   "source": [
    "def random_circular_graph(n):                              # Function to create a n-nodes n-edges \n",
    "                                                           # random (circular) graph\n",
    "\n",
    "    G = nx.Graph()                                         # Creation of the graph\n",
    "    \n",
    "    for i in range(0,n):                                   # Add n nodes to the graph\n",
    "        G.add_node(i)\n",
    "    \n",
    "    len_nodes=len(list(G.nodes))                           \n",
    "    \n",
    "    for i in range(len_nodes - 1):                         # Add edges between two nodes following nodes\n",
    "        G.add_edges_from([(i, i+1)])\n",
    "        \n",
    "    G.add_edges_from([(list(G.nodes)[-1],list(G.nodes)[0])]) \n",
    "    # Add the last edge between the last node and the first one\n",
    "    \n",
    "    \n",
    "    return G                                              # Return the graph created"
   ]
  },
  {
   "cell_type": "markdown",
   "metadata": {},
   "source": [
    "### QAOA quantum circuit creation"
   ]
  },
  {
   "cell_type": "code",
   "execution_count": null,
   "metadata": {},
   "outputs": [],
   "source": [
    "def quantum_circuit(G,angles):                            # Function to create a quantum circuit with a graph G\n",
    "                                                          # and angles (1-D array of 2p elements) as inputs\n",
    "    \n",
    "# Angles values must be between 0 and pi because RZZ(beta) and RX(gamma) are pi-periodic\n",
    "    \n",
    "    # angles is a list having the following pattern : \n",
    "    # angles = [beta_1, gamma_1, beta_2, gamma_2, ..., beta_p, gamma_p] \n",
    "    # where p is the number of times the RZZ and RX gates are applied to the qubits.\n",
    "    # So we decide the value of p when calling the function to create a quantum circuit.\n",
    "\n",
    "    \n",
    "    if len(angles) % 2 != 0:\n",
    "        print(\"Error : angles must be a 2n elements list\")\n",
    "        \n",
    "    else:\n",
    "    \n",
    "        qubit_number = len(G.nodes)                           # The number of qubits and classicals bits of the circuit\n",
    "        classicalbit_number = len(G.nodes)                    # are equals to the number of nodes of the graph G\n",
    "\n",
    "    \n",
    "        qc = QuantumCircuit(qubit_number,classicalbit_number) # Creation of the quantum circuit\n",
    "    \n",
    "        qc.h(G.nodes)                                         # Hadamard gate applied to each qubit\n",
    "    \n",
    "        qc.barrier()                                          # Barrier has no effect on the circuit, just make things \n",
    "                                                              # easier to visualize on the circuit drawing\n",
    "\n",
    "    \n",
    "        p=int(len(angles)/2)\n",
    "        # That means we will apply p times the RZZ and RX gates to the qubits\n",
    "    \n",
    "        i=0\n",
    "        j=1\n",
    "    \n",
    "        for a in range(1,p+1):    \n",
    "        \n",
    "            for edge in G.edges:                              # RZZ gate applied to two qubit (each time the pair of qubit\n",
    "                qc.rzz(angles[i], edge[0],edge[1])            # considered are two qubits associated with nodes linked by\n",
    "                                                              # an edge on the graph G)\n",
    "            \n",
    "                                                              # RZZ gate depends on beta parameter\n",
    "                \n",
    "    \n",
    "            qc.barrier()\n",
    "\n",
    "            qc.rx(angles[j], G.nodes)                         # RX gate applied to each qubit\n",
    "                                                              # RX gate depends on gamma parameter\n",
    "            \n",
    "            qc.barrier()    \n",
    "            \n",
    "            i+=2\n",
    "            j+=2\n",
    "        \n",
    "        \n",
    "    \n",
    "        qc.measure(G.nodes, G.nodes)                          # Measurement of each qubit, result on the assiociated \n",
    "                                                              # classical bit  \n",
    "\n",
    "        return qc                                             # Return the quantum circuit created"
   ]
  },
  {
   "cell_type": "markdown",
   "metadata": {},
   "source": [
    "### Simulation of the quantum circuit"
   ]
  },
  {
   "cell_type": "code",
   "execution_count": null,
   "metadata": {},
   "outputs": [],
   "source": [
    "def simulation(qc,N):                                     # Function to run the quantum circuit put as an input\n",
    "                                                          # in a simulator, with N the times the circuit is runned\n",
    "    \n",
    "    aer_sim = Aer.get_backend('aer_simulator') \n",
    "    # The simulator give us a simulaiton on how our circuit should behave on a real quantum processor\n",
    "    \n",
    "    shots = N                                             # Times the circuit is runned \n",
    "    \n",
    "    results = aer_sim.run(qc, shots = shots).result()\n",
    "    counts = results.get_counts()                         # counts is a dictionnary with all the possibles outputs \n",
    "                                                          # associated with the frequency of this output as a result\n",
    "    \n",
    "    \n",
    "    return counts                                         # Return counts"
   ]
  },
  {
   "cell_type": "markdown",
   "metadata": {},
   "source": [
    "### Real experiment with our quantum circuit on an IBM quantum processor \n",
    "https://quantum-computing.ibm.com/jobs to manage and view the status and results of all of the jobs you have run on an IBM Quantum service. \n",
    "\n",
    "The notebook can also be runned directly on https://quantum-computing.ibm.com/"
   ]
  },
  {
   "cell_type": "code",
   "execution_count": null,
   "metadata": {},
   "outputs": [],
   "source": [
    "def experiment(qc,N):\n",
    "    \n",
    "# Function to run the quantum circuit put as an input in a simulator, with N the times the circuit is runned\n",
    "\n",
    "    \n",
    "    # Get the least busy backend device with greater than or equal to (n+1) qubits\n",
    "\n",
    "    provider = IBMQ.get_provider(hub='ibm-q')\n",
    "    backend = least_busy(provider.backends(filters=lambda x: x.configuration().n_qubits >= len(qc.qubits)+1 and\n",
    "                                   not x.configuration().simulator and x.status().operational==True))\n",
    "    \n",
    "    \n",
    "    shots = N                                             # Times the circuit is runned \n",
    "\n",
    "    \n",
    "    transpiled_dj_circuit = transpile(qc, backend, optimization_level=3)\n",
    "    job = backend.run(transpiled_dj_circuit, shots = shots)\n",
    "    job_monitor(job, interval=2)\n",
    "    \n",
    "    \n",
    "    # Get the results of the computation\n",
    "    \n",
    "    results = job.result()\n",
    "    answer = results.get_counts()\n",
    "    # answer is a dictionnary with all the possibles outputs associated with the frequency of this output as a result\n",
    "    \n",
    "    \n",
    "    return answer                                         # Return answer"
   ]
  },
  {
   "cell_type": "markdown",
   "metadata": {},
   "source": [
    "### Function to determine the average cost of a simulation or experiment results"
   ]
  },
  {
   "cell_type": "code",
   "execution_count": null,
   "metadata": {},
   "outputs": [],
   "source": [
    "def average_cost(sim_exp_results):                       # Function do determine the average cost\n",
    "                                                         # considering one simulation or experiment results\n",
    "        \n",
    "        \n",
    "# So average cost = [Sum on every state (state cost * its frequency)] / number of times the circuit is runned\n",
    "# This way of determine the cost of a graph has no link with any Hamiltonian introduced in the report\n",
    "# It's just an other method that gives the same results\n",
    "\n",
    "    results_cost=[]                      # List used to store a state, its cost and its frequency\n",
    "                                         # So each element of this list is composed of 3 elements\n",
    "        \n",
    "\n",
    "    for bits, counts in sim_exp_results.items():  \n",
    "    # Loop on all the state that appear in the simulation or experiment results \n",
    "    \n",
    "        G = nx.Graph()                   # For each state in this list   NOT always 4, it adapts, but need to change \n",
    "                                         # this we create here a 4-nodes graph, where each node as the value of one \n",
    "                                         # qubit of this state\n",
    "                \n",
    "        len_bits= len(bits)              # length of a state (example : length of '01' is 2, lenght of '1101' is 4)\n",
    "        \n",
    "        \n",
    "        for i in range (0, len_bits):    # For each bit of the bit string, \n",
    "                                         # we add a node with value the considered bit (0 or 1) \n",
    "    \n",
    "            G.add_node(i, bit=bits[-(i+1)])\n",
    "                 \n",
    "            \n",
    "        len_nodes=len(list(G.nodes))\n",
    "        \n",
    "        for i in range(len_nodes - 1):   # Add edges between two nodes following nodes\n",
    "            G.add_edges_from([(i, i+1)])\n",
    "            \n",
    "        G.add_edges_from([(list(G.nodes)[-1],list(G.nodes)[0])])\n",
    "        # Add the last edge between the last node and the first one\n",
    "\n",
    "        \n",
    "        for edges in G.edges:            # Loop on all the edges of the graph\n",
    "            \n",
    "            if G.nodes[edges[0]][\"bit\"]==G.nodes[edges[1]][\"bit\"]:  # If an edge is linked by two nodes that have the\n",
    "                G.add_edge(edges[0], edges[1], weight=+1)           # same bit value, it is assigned the weight +1,\n",
    "                                                                    # else the weight -1\n",
    "            else:\n",
    "                G.add_edge(edges[0], edges[1], weight=-1) \n",
    "            \n",
    "            \n",
    "# The goal of this loop is to determine the cost of each state thanks to the creation of en associated graph\n",
    "        \n",
    "        sum_edges_weight=0\n",
    "                                            # Sum of each edge weight to have the state cost\n",
    "        for edges in G.edges:                                        \n",
    "            sum_edges_weight+=G.get_edge_data(edges[0],edges[1])['weight']\n",
    "                \n",
    "        \n",
    "        results_cost.append([bits,counts,sum_edges_weight])\n",
    "        # We store the cost in the results_cost list, with the state and its frequency\n",
    "        \n",
    "        \n",
    "        \n",
    "    average_cost=0                          # Here we simply calculate the average cost and check the total counts\n",
    "    total_counts=0\n",
    "    for a in results_cost:\n",
    "        average_cost += a[1]*a[2]\n",
    "        total_counts +=a[1]\n",
    "\n",
    "    average_cost=average_cost/total_counts\n",
    "    \n",
    "    \n",
    "    return average_cost                    # Return the calculated average cost of the simulation or experiment"
   ]
  },
  {
   "cell_type": "markdown",
   "metadata": {},
   "source": [
    "### QAOA : combine all the functions in a single one\n",
    "Note that when calling the function, if you want a $\\textbf{circuit other than with 4 qubits}$, or if you you want to $\\textbf{run the circuit other than 10 000 times}$ (for the simulation or experiment), you $\\textbf{have to change these parameters}$ in the definition of the $\\text{apply_qaoa()}$ function here."
   ]
  },
  {
   "cell_type": "code",
   "execution_count": null,
   "metadata": {},
   "outputs": [],
   "source": [
    "def apply_qaoa(x, exp=True, show=False):             # Functions that combines all the functions created above, \n",
    "                                                     # with x an 1D-array of 2p elements as an input\n",
    "        \n",
    "    # x is a list having the following pattern : \n",
    "    # x = [beta_1, gamma_1, beta_2, gamma_2, ..., beta_p, gamma_p] \n",
    "    # where p is the number of times the RZZ and RX gates are applied to the qubits on the quantum circuit.\n",
    "    \n",
    "# If exp is set to True, QAOA calls the experiment function to run the circuit on a real quantum processor\n",
    "# If exp is set to False, QAOA calls the simulation function to run the circuit on a simulator\n",
    "\n",
    "# If show is set to True, the histogram of the simulation or experiment results will be printed\n",
    "        \n",
    "# QAOA = Quantum Approximate Optimization Algorithm                               \n",
    "    \n",
    "    G = random_circular_graph(4)                  # 4-nodes 4-edges random circular graph by default\n",
    "    qc = quantum_circuit(G,x)\n",
    "    \n",
    "    if exp == True:\n",
    "        results = experiment(qc,10000)\n",
    "    else:\n",
    "        results = simulation(qc,10000)            # Experiment or simulation runned 10000 times by default\n",
    "        \n",
    "    av_c = average_cost(results)\n",
    "    \n",
    "    p=int(len(x)/2)\n",
    "    \n",
    "    if show == True and exp == False:\n",
    "        plot_histogram(results, figsize=(20, 10), title='SIMULATION ; Average cost = '+str(av_c)+' ; p = '+str(p)+' ; \\\n",
    "QAOA parameters : '+str(x))\n",
    "\n",
    "    if show == True and exp == True:\n",
    "        plot_histogram(results, figsize=(20, 10), title='EXPERIMENT ; Average cost = '+str(av_c)+' ; p = '+str(p)+' ; \\\n",
    "QAOA parameters : '+str(x))\n",
    "        \n",
    "        \n",
    "    return av_c                                  # Return the average cost calculated with the simulation"
   ]
  },
  {
   "cell_type": "markdown",
   "metadata": {},
   "source": [
    "# Functions calling \n",
    "We just show here the results given by each function and then the combination of them in the $\\text{apply_qaoa()}$ function.\n",
    "This part is $\\textbf{not mandatory to execute}$ for the next part of the notebook (QAOA parameters optimization) to work properly."
   ]
  },
  {
   "cell_type": "markdown",
   "metadata": {},
   "source": [
    "### Graph"
   ]
  },
  {
   "cell_type": "code",
   "execution_count": null,
   "metadata": {},
   "outputs": [],
   "source": [
    "G = random_circular_graph(4)             # Creation of a graph\n",
    "\n",
    "nx.draw(G, with_labels = True)           # Draw the graph"
   ]
  },
  {
   "cell_type": "markdown",
   "metadata": {},
   "source": [
    "### Quantum circuit"
   ]
  },
  {
   "cell_type": "code",
   "execution_count": null,
   "metadata": {},
   "outputs": [],
   "source": [
    "qc=quantum_circuit(G,[2,2])     # Create a quantum circuit with as qubit as the number of nodes in G\n",
    "                                # and with beta and gamma as parameters\n",
    "\n",
    "qc.draw('mpl')                  # Draw the quantum circuit"
   ]
  },
  {
   "cell_type": "markdown",
   "metadata": {},
   "source": [
    "### Simulation"
   ]
  },
  {
   "cell_type": "code",
   "execution_count": null,
   "metadata": {},
   "outputs": [],
   "source": [
    "sim = simulation(qc,1000)                  # Run a simulation of the quantum circuit 'qc'\n",
    "\n",
    "print(sim)                                 # Print the count dictionnary \n",
    "plot_histogram(sim, figsize=(20,10))       # Histogram of all the outputs results and their frequency"
   ]
  },
  {
   "cell_type": "markdown",
   "metadata": {},
   "source": [
    "### Average cost"
   ]
  },
  {
   "cell_type": "code",
   "execution_count": null,
   "metadata": {},
   "outputs": [],
   "source": [
    "a_n = average_cost(sim)                 # Calculate the average cost of the result of the previous simulation\n",
    "\n",
    "print(\"Average cost is\", a_n)           # Printing the calculated value"
   ]
  },
  {
   "cell_type": "markdown",
   "metadata": {},
   "source": [
    "### QAOA\n",
    "Note that when calling the function, if you want a $\\textbf{circuit other than with 4 qubits}$, or if you you want to $\\textbf{run the circuit other than 10 000 times}$ (for the simulation or experiment), you $\\textbf{have to change these parameters}$ in the definition of the $\\text{apply_qaoa()}$ function above."
   ]
  },
  {
   "cell_type": "code",
   "execution_count": null,
   "metadata": {},
   "outputs": [],
   "source": [
    "value=apply_qaoa([2,2,2,2],exp=False, show=True)\n",
    "\n",
    "print(\"Average cost is\", value)"
   ]
  },
  {
   "cell_type": "markdown",
   "metadata": {},
   "source": [
    "# QAOA parameters optimization\n",
    "\n",
    "\n",
    "We use a minimizing function from the Scipy module that will try to minimize the result of the $\\text{apply_qaoa()}$ function, then give us the input parameter (the 1D-array that are values for the RZZ and RX gates on our quantum circuit) that give this minimal value.\n",
    "\n",
    "Note that when calling the function, if you want a $\\textbf{circuit other than with 4 qubits}$, or if you you want to $\\textbf{run the circuit other than 10 000 times}$ (for the simulation or experiment), you $\\textbf{have to change these parameters}$ in the definition of the $\\text{apply_qaoa()}$ function above.\n",
    "\n",
    "\n",
    "### Optimizer"
   ]
  },
  {
   "cell_type": "code",
   "execution_count": null,
   "metadata": {},
   "outputs": [],
   "source": [
    "exp = False                      # Here we decide if we want to run the optimizer with the simulator \n",
    "                                 # or on a real quantum processor\n",
    "    \n",
    "show = False                     # show should always be False\n",
    "\n",
    "\n",
    "# Starting values for the optimizer :\n",
    "\n",
    "start=[2, 2, 2, 2, 2, 2]     # or [1, 2.5] or [1.5, 1.5] or [2, 3] for example \n",
    "\n",
    "\n",
    "for i in range (0,len(start)):          # Starting values must be between 0 and pi because \n",
    "                                        # RZZ(beta) and RX(gamma) are pi-periodic\n",
    "    if not 0 <= start[i] <= np.pi:\n",
    "        print ('ERROR : starting values must be between 0 and pi')\n",
    "\n",
    "        \n",
    "p = int(len(start)/2)\n",
    "\n",
    "    # start is a (1-D array of 2p elements) having the following pattern : \n",
    "    # start = [beta_1, gamma_1, beta_2, gamma_2, ..., beta_p, gamma_p] \n",
    "    # where p is the number of times the RZZ and RX gates are applied to the qubits.\n",
    "    # So we decide the value of p when choosing a starting point.\n",
    "    \n",
    "    \n",
    "list_of_points_av_c  = []\n",
    "list_of_points_angles = []\n",
    "\n",
    "# callbackFunction is used to store the QAOA parameters values used\n",
    "# during each of its iterations by the optimizer and the average cost associated to these values\n",
    "\n",
    "def callbackFunction(point):\n",
    "    \n",
    "    list_of_points_angles.append(point)\n",
    "    \n",
    "    a_c = apply_qaoa(point,exp=False, show=False)\n",
    "    list_of_points_av_c.append(a_c) \n",
    "    \n",
    "\n",
    "# Applying the minimization function from Scipy to the 'apply_qaoa' function\n",
    "    \n",
    "minimization_results = minimize(fun = apply_qaoa, \n",
    "                                method='Nelder-Mead',\n",
    "                                args = (exp, show),\n",
    "                                options={'fatol':0.02},                   # Convergence criteria for the average cost\n",
    "                                \n",
    "                                bounds = [(0, np.pi), (0, np.pi)]*p,      # Searching optimal values between 0 and pi\n",
    "                                                                          # because RZZ(beta) and RX(gamma) are \n",
    "                                x0= start,                                # pi-periodic\n",
    "                                callback = callbackFunction\n",
    "                               )\n",
    "\n",
    "print(minimization_results) \n",
    "\n",
    "# x is the best values found by the optimizer, fun is the average cost value associated to these parameters"
   ]
  },
  {
   "cell_type": "markdown",
   "metadata": {},
   "source": [
    "### Results\n",
    "Showing the results of the $\\text{apply_qaoa()}$ function with first the starting values set previously and then with the best parameters found by the minimizer in order to have the lowest average cost possible."
   ]
  },
  {
   "cell_type": "code",
   "execution_count": null,
   "metadata": {},
   "outputs": [],
   "source": [
    "apply_qaoa(start,exp = False, show = True)"
   ]
  },
  {
   "cell_type": "code",
   "execution_count": null,
   "metadata": {},
   "outputs": [],
   "source": [
    "apply_qaoa(minimization_results.x,exp = False, show = True)"
   ]
  },
  {
   "cell_type": "markdown",
   "metadata": {},
   "source": [
    "# Graphic representation of the average cost and path of the minimizer \n",
    "\n",
    "Only for a quantum circuit where $p=1$, meaning that RZZ and RX gates are applied only one time on all the qubits.\n",
    "\n",
    "This will give us a 3D plot of the average cost depending on the two paramaters.\n",
    "With $p \\ge 2$, we would have an average  cost depending on four parameters, meaning a 5D plot, which is not possible.\n",
    "\n",
    "### Computing average cost values for different $\\alpha_1$  and $\\gamma_1$ values"
   ]
  },
  {
   "cell_type": "code",
   "execution_count": null,
   "metadata": {},
   "outputs": [],
   "source": [
    "if len(minimization_results.x)==2:\n",
    "\n",
    "    num = 50\n",
    "    \n",
    "    # Plot for beta and gamma between 0 and pi because RZZ(beta) and RX(gamma) are pi-periodic\n",
    "    beta = np.linspace(0,np.pi,num) \n",
    "    gamma = np.linspace(0,np.pi,num)\n",
    "\n",
    "    beta_list=[]\n",
    "    gamma_list=[]\n",
    "    c_list=[]\n",
    "\n",
    "    for i in tqdm(range(0, len(beta))):\n",
    "        for j in range(0, len(gamma)):\n",
    "            c = apply_qaoa([beta[i],gamma[j]], exp=False, show=False)\n",
    "        \n",
    "            # We use here QAOA on a simulator, \n",
    "            # otherwise it would take too much time on the IBM platform\n",
    "        \n",
    "            beta_list.append(beta[i])\n",
    "            gamma_list.append(gamma[j])\n",
    "            c_list.append(c)"
   ]
  },
  {
   "cell_type": "markdown",
   "metadata": {},
   "source": [
    "### 2D Representation"
   ]
  },
  {
   "cell_type": "code",
   "execution_count": null,
   "metadata": {},
   "outputs": [],
   "source": [
    "if len(minimization_results.x)==2:\n",
    "\n",
    "    p=int(len(minimization_results.x)/2)\n",
    "\n",
    "    grid = tuple(zip(beta_list,gamma_list,c_list))\n",
    "\n",
    "    fig = plt.figure(figsize =(30, 30))\n",
    "    plt.tricontourf(beta_list,gamma_list,c_list)\n",
    "    plt.plot(list(zip(*list_of_points_angles))[0],list(zip(*list_of_points_angles))[1], '-',color='white', \n",
    "             label='QAOA parameters values taken by the optimizer')\n",
    "    plt.plot(start[0],start[1], 'o',color='white', label='Starting values of the optimizer')\n",
    "    plt.plot(minimization_results.x[0],minimization_results.x[1],'o',color='red',\n",
    "            label='Final values found by the optimizer')\n",
    "    \n",
    "    cbar = plt.colorbar()\n",
    "    cbar.set_label('Average cost')\n",
    "    plt.xlabel(r'$\\beta_1$ (rad)')\n",
    "    plt.ylabel(r'$\\gamma_1$ (rad)')\n",
    "    plt.title('Average cost and path taken by the optimizer'+' ; p = '+str(p))\n",
    "\n",
    "    plt.legend()\n",
    "    plt.show()"
   ]
  },
  {
   "cell_type": "markdown",
   "metadata": {},
   "source": [
    "### 3D representation"
   ]
  },
  {
   "cell_type": "code",
   "execution_count": null,
   "metadata": {},
   "outputs": [],
   "source": [
    "if len(minimization_results.x)==2:\n",
    "    \n",
    "    p=int(len(minimization_results.x)/2)\n",
    "\n",
    "    fig = plt.figure(figsize =(30, 30))\n",
    "    ax = fig.add_subplot(projection='3d')\n",
    "\n",
    "    # Creating color map\n",
    "    my_cmap = plt.get_cmap('Wistia')\n",
    "   \n",
    "    # Creating plot\n",
    "    trisurf = ax.plot_trisurf(beta_list, gamma_list, c_list,\n",
    "                         cmap = my_cmap,\n",
    "                         linewidth = 0.02,\n",
    "                         antialiased = True,\n",
    "                         edgecolor = 'grey', alpha=0.4) \n",
    "    plt.xlabel(r'$\\beta_1$ (rad)')\n",
    "    plt.ylabel(r'$\\gamma_1$ (rad)')\n",
    "    \n",
    "    \n",
    "    ax.set_title('Average cost and path taken by the optimizer'+' ; p = '+str(p))\n",
    "    \n",
    "    plt.plot(minimization_results.x[0],minimization_results.x[1],minimization_results.fun,'o',color='black',\n",
    "            label='Final values found by the optimizer')\n",
    "\n",
    "    ax.plot(list(zip(*list_of_points_angles))[0], list(zip(*list_of_points_angles))[1], list_of_points_av_c, 'black',\n",
    "           label='QAOA parameters values taken by the optimizer')\n",
    "    \n",
    "    plt.legend()"
   ]
  },
  {
   "cell_type": "markdown",
   "metadata": {},
   "source": [
    "# Graphic representation QAOA parameters and average cost associated to these parameters"
   ]
  },
  {
   "cell_type": "code",
   "execution_count": null,
   "metadata": {},
   "outputs": [],
   "source": [
    "p=int(len(minimization_results.x)/2)\n",
    "\n",
    "fig = plt.figure(figsize =(30, 20))\n",
    "\n",
    "plt.subplot(211)\n",
    "plt.xlabel('Iterations')\n",
    "plt.ylabel('radian')\n",
    "plt.title('QAOA parameters values taken by the optimizer'+' ; p = '+str(p))\n",
    "\n",
    "j=1\n",
    "\n",
    "for i in range (0, len(minimization_results.x), 2):\n",
    "    \n",
    "    plt.plot(list(zip(*list_of_points_angles))[i], label = r'$\\beta_{}$'.format(j))\n",
    "    plt.plot(list(zip(*list_of_points_angles))[i+1], label = r'$\\gamma_{}$'.format(j))\n",
    "    j+=1\n",
    "plt.legend()    \n",
    "    \n",
    "plt.subplot(212)\n",
    "\n",
    "plt.plot(list_of_points_av_c)\n",
    "plt.xlabel('Iterations')\n",
    "plt.ylabel('Average cost')\n",
    "plt.title('Average cost associated to these parameters')\n",
    "\n",
    "plt.show()"
   ]
  }
 ],
 "metadata": {
  "celltoolbar": "Format de la Cellule Texte Brut",
  "kernelspec": {
   "display_name": "Python 3",
   "language": "python",
   "name": "python3"
  },
  "language_info": {
   "codemirror_mode": {
    "name": "ipython",
    "version": 3
   },
   "file_extension": ".py",
   "mimetype": "text/x-python",
   "name": "python",
   "nbconvert_exporter": "python",
   "pygments_lexer": "ipython3",
   "version": "3.8.6"
  }
 },
 "nbformat": 4,
 "nbformat_minor": 4
}
